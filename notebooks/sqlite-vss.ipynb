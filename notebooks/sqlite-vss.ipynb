{
 "cells": [
  {
   "cell_type": "code",
   "execution_count": 29,
   "id": "207ef1ef-36ba-4194-8f5f-1d98a6a2bff2",
   "metadata": {
    "tags": []
   },
   "outputs": [],
   "source": [
    "from langchain.document_loaders import TextLoader\n",
    "from langchain.embeddings.sentence_transformer import SentenceTransformerEmbeddings\n",
    "from langchain.text_splitter import CharacterTextSplitter\n",
    "from langchain.vectorstores import SQLiteVSS\n",
    "import time"
   ]
  },
  {
   "cell_type": "code",
   "execution_count": 5,
   "id": "71a2adec-0bc9-4e75-abcf-59bdbd0f82d6",
   "metadata": {
    "tags": []
   },
   "outputs": [
    {
     "name": "stderr",
     "output_type": "stream",
     "text": [
      "Created a chunk of size 2598, which is longer than the specified 1500\n",
      "Created a chunk of size 2294, which is longer than the specified 1500\n",
      "Created a chunk of size 1559, which is longer than the specified 1500\n",
      "Created a chunk of size 2101, which is longer than the specified 1500\n",
      "Created a chunk of size 2442, which is longer than the specified 1500\n",
      "Created a chunk of size 1830, which is longer than the specified 1500\n",
      "Created a chunk of size 1551, which is longer than the specified 1500\n",
      "Created a chunk of size 1580, which is longer than the specified 1500\n",
      "Created a chunk of size 1534, which is longer than the specified 1500\n",
      "Created a chunk of size 1675, which is longer than the specified 1500\n",
      "Created a chunk of size 2183, which is longer than the specified 1500\n",
      "Created a chunk of size 1551, which is longer than the specified 1500\n",
      "Created a chunk of size 1994, which is longer than the specified 1500\n",
      "Created a chunk of size 2488, which is longer than the specified 1500\n",
      "Created a chunk of size 2170, which is longer than the specified 1500\n",
      "Created a chunk of size 1553, which is longer than the specified 1500\n",
      "Created a chunk of size 1831, which is longer than the specified 1500\n",
      "Created a chunk of size 1926, which is longer than the specified 1500\n",
      "Created a chunk of size 1822, which is longer than the specified 1500\n",
      "Created a chunk of size 1715, which is longer than the specified 1500\n",
      "Created a chunk of size 1507, which is longer than the specified 1500\n",
      "Created a chunk of size 1894, which is longer than the specified 1500\n",
      "Created a chunk of size 1560, which is longer than the specified 1500\n",
      "Created a chunk of size 1713, which is longer than the specified 1500\n",
      "Created a chunk of size 1881, which is longer than the specified 1500\n",
      "Created a chunk of size 1681, which is longer than the specified 1500\n",
      "Created a chunk of size 1907, which is longer than the specified 1500\n",
      "Created a chunk of size 1540, which is longer than the specified 1500\n",
      "Created a chunk of size 1525, which is longer than the specified 1500\n",
      "Created a chunk of size 1708, which is longer than the specified 1500\n",
      "Created a chunk of size 1559, which is longer than the specified 1500\n",
      "Created a chunk of size 1679, which is longer than the specified 1500\n",
      "Created a chunk of size 1673, which is longer than the specified 1500\n",
      "Created a chunk of size 1653, which is longer than the specified 1500\n",
      "Created a chunk of size 1623, which is longer than the specified 1500\n",
      "Created a chunk of size 2137, which is longer than the specified 1500\n",
      "Created a chunk of size 1564, which is longer than the specified 1500\n",
      "Created a chunk of size 1737, which is longer than the specified 1500\n",
      "Created a chunk of size 1533, which is longer than the specified 1500\n",
      "Created a chunk of size 1661, which is longer than the specified 1500\n",
      "Created a chunk of size 1903, which is longer than the specified 1500\n",
      "Created a chunk of size 1830, which is longer than the specified 1500\n",
      "Created a chunk of size 1897, which is longer than the specified 1500\n",
      "Created a chunk of size 2042, which is longer than the specified 1500\n",
      "Created a chunk of size 1622, which is longer than the specified 1500\n",
      "Created a chunk of size 1564, which is longer than the specified 1500\n",
      "Created a chunk of size 1629, which is longer than the specified 1500\n",
      "Created a chunk of size 1801, which is longer than the specified 1500\n",
      "Created a chunk of size 1516, which is longer than the specified 1500\n",
      "Created a chunk of size 1945, which is longer than the specified 1500\n",
      "Created a chunk of size 1615, which is longer than the specified 1500\n",
      "Created a chunk of size 2004, which is longer than the specified 1500\n",
      "Created a chunk of size 1638, which is longer than the specified 1500\n",
      "Created a chunk of size 1819, which is longer than the specified 1500\n",
      "Created a chunk of size 1622, which is longer than the specified 1500\n",
      "Created a chunk of size 1582, which is longer than the specified 1500\n",
      "Created a chunk of size 1547, which is longer than the specified 1500\n",
      "Created a chunk of size 1680, which is longer than the specified 1500\n",
      "Created a chunk of size 2035, which is longer than the specified 1500\n",
      "Created a chunk of size 1546, which is longer than the specified 1500\n",
      "Created a chunk of size 1564, which is longer than the specified 1500\n",
      "Created a chunk of size 2011, which is longer than the specified 1500\n",
      "Created a chunk of size 1693, which is longer than the specified 1500\n",
      "Created a chunk of size 1921, which is longer than the specified 1500\n",
      "Created a chunk of size 1641, which is longer than the specified 1500\n",
      "Created a chunk of size 1569, which is longer than the specified 1500\n",
      "Created a chunk of size 1989, which is longer than the specified 1500\n",
      "Created a chunk of size 2082, which is longer than the specified 1500\n",
      "Created a chunk of size 1741, which is longer than the specified 1500\n",
      "Created a chunk of size 1769, which is longer than the specified 1500\n",
      "Created a chunk of size 2118, which is longer than the specified 1500\n",
      "Created a chunk of size 1815, which is longer than the specified 1500\n",
      "Created a chunk of size 1545, which is longer than the specified 1500\n",
      "Created a chunk of size 1528, which is longer than the specified 1500\n",
      "Created a chunk of size 1507, which is longer than the specified 1500\n",
      "Created a chunk of size 1556, which is longer than the specified 1500\n",
      "Created a chunk of size 1764, which is longer than the specified 1500\n",
      "Created a chunk of size 1820, which is longer than the specified 1500\n",
      "Created a chunk of size 1613, which is longer than the specified 1500\n",
      "Created a chunk of size 1704, which is longer than the specified 1500\n",
      "Created a chunk of size 2007, which is longer than the specified 1500\n",
      "Created a chunk of size 1797, which is longer than the specified 1500\n",
      "Created a chunk of size 1686, which is longer than the specified 1500\n",
      "Created a chunk of size 1717, which is longer than the specified 1500\n",
      "Created a chunk of size 1527, which is longer than the specified 1500\n",
      "Created a chunk of size 1802, which is longer than the specified 1500\n",
      "Created a chunk of size 2015, which is longer than the specified 1500\n",
      "Created a chunk of size 3363, which is longer than the specified 1500\n",
      "Created a chunk of size 2108, which is longer than the specified 1500\n",
      "Created a chunk of size 1972, which is longer than the specified 1500\n",
      "Created a chunk of size 1786, which is longer than the specified 1500\n",
      "Created a chunk of size 1648, which is longer than the specified 1500\n",
      "Created a chunk of size 2042, which is longer than the specified 1500\n",
      "Created a chunk of size 1941, which is longer than the specified 1500\n",
      "Created a chunk of size 1583, which is longer than the specified 1500\n",
      "Created a chunk of size 2115, which is longer than the specified 1500\n",
      "Created a chunk of size 1762, which is longer than the specified 1500\n",
      "Created a chunk of size 1540, which is longer than the specified 1500\n",
      "Created a chunk of size 1829, which is longer than the specified 1500\n",
      "Created a chunk of size 1502, which is longer than the specified 1500\n",
      "Created a chunk of size 2103, which is longer than the specified 1500\n",
      "Created a chunk of size 1718, which is longer than the specified 1500\n",
      "Created a chunk of size 1764, which is longer than the specified 1500\n",
      "Created a chunk of size 1537, which is longer than the specified 1500\n",
      "Created a chunk of size 1538, which is longer than the specified 1500\n",
      "Created a chunk of size 3000, which is longer than the specified 1500\n",
      "Created a chunk of size 3500, which is longer than the specified 1500\n",
      "Created a chunk of size 2370, which is longer than the specified 1500\n",
      "Created a chunk of size 1901, which is longer than the specified 1500\n",
      "Created a chunk of size 1660, which is longer than the specified 1500\n",
      "Created a chunk of size 1691, which is longer than the specified 1500\n",
      "Created a chunk of size 1504, which is longer than the specified 1500\n",
      "Created a chunk of size 1713, which is longer than the specified 1500\n",
      "Created a chunk of size 1506, which is longer than the specified 1500\n",
      "Created a chunk of size 1505, which is longer than the specified 1500\n",
      "Created a chunk of size 1658, which is longer than the specified 1500\n",
      "Created a chunk of size 1730, which is longer than the specified 1500\n",
      "Created a chunk of size 1799, which is longer than the specified 1500\n",
      "Created a chunk of size 1581, which is longer than the specified 1500\n",
      "Created a chunk of size 1703, which is longer than the specified 1500\n",
      "Created a chunk of size 1653, which is longer than the specified 1500\n",
      "Created a chunk of size 1556, which is longer than the specified 1500\n",
      "Created a chunk of size 1529, which is longer than the specified 1500\n",
      "Created a chunk of size 1665, which is longer than the specified 1500\n",
      "Created a chunk of size 1592, which is longer than the specified 1500\n",
      "Created a chunk of size 1566, which is longer than the specified 1500\n",
      "Created a chunk of size 1562, which is longer than the specified 1500\n",
      "Created a chunk of size 1842, which is longer than the specified 1500\n",
      "Created a chunk of size 1786, which is longer than the specified 1500\n",
      "Created a chunk of size 1642, which is longer than the specified 1500\n",
      "Created a chunk of size 1592, which is longer than the specified 1500\n",
      "Created a chunk of size 1569, which is longer than the specified 1500\n"
     ]
    }
   ],
   "source": [
    "# load the document and split it into chunks\n",
    "loader = TextLoader(\"lovecraft.txt\")\n",
    "documents = loader.load()\n",
    "\n",
    "# split it into chunks\n",
    "text_splitter = CharacterTextSplitter(chunk_size=1500, chunk_overlap=0)\n",
    "docs = text_splitter.split_documents(documents)\n",
    "texts = [\" \".join(doc.page_content.split()) for doc in docs]"
   ]
  },
  {
   "cell_type": "code",
   "execution_count": 10,
   "id": "8d28b053-8ded-4261-bfe5-17e929ea875b",
   "metadata": {
    "tags": []
   },
   "outputs": [],
   "source": [
    "embedding_function = SentenceTransformerEmbeddings(model_name=\"jinaai/jina-embedding-s-en-v1\")\n",
    "\n",
    "\n",
    "# load it in sqlite-vss in a table named state_union.\n",
    "# the db_file parameter is the name of the file you want\n",
    "# as your sqlite database.\n",
    "db = SQLiteVSS.from_texts(\n",
    "    texts=texts,\n",
    "    embedding=embedding_function,\n",
    "    table=\"mythos\",\n",
    "    db_file=\"lovecraft.db\",\n",
    ")\n"
   ]
  },
  {
   "cell_type": "code",
   "execution_count": 20,
   "id": "0c97e3e3-9509-4cca-8253-120e0e97c09d",
   "metadata": {
    "tags": []
   },
   "outputs": [],
   "source": [
    "res = db.similarity_search(\"The moon was low over the ancient and timeless waters of foul Karkossa\")"
   ]
  },
  {
   "cell_type": "code",
   "execution_count": 24,
   "id": "fbbde6a7-3b3b-4ff4-a60a-d8fa226f45a7",
   "metadata": {
    "tags": []
   },
   "outputs": [
    {
     "data": {
      "text/plain": [
       "\"well as the odd haze we had ourselves perceived around the rampart-crowned peak, might not be caused by the tortuous-channelled rising of some such vapour from the unfathomed regions of earth's core. Out of the South it was that the White Ship used to come when the moon was full and high in the heavens. Out of the South it would glide very smoothly and silently over the sea. And whether the sea was rough or calm, and whether the wind was friendly or adverse, it would always glide smoothly and silently, its sails distant and its long strange tiers of oars moving rhythmically. One night I espied upon the deck a man, bearded and robed, and he seemed to beckon me to embark for fair unknown shores. Many times aften/vard I saw him under the full moon, and ever did he beckon me. Very brightly did the moon shine on the night I answered the call, and I walked out over the waters to the White Ship on a bridge of moonbeams. The man who had beckoned now spoke a welcome to me in a soft language I seemed to know well, and the hours were filled with soft songs of the oarsmen as we glided away into a mysterious South, golden with the glow of that full, mellow moon. For many months after that Kuranes sought the marvellous city of CelephaTs and its sky- bound galleys in vain; and though his dreams carried him to many gorgeous and unheard-of places, no one whom he met could tell him how to find Ooth-Nargai, beyond the Tanarian Whilst the king and his nobles feasted within the palace, and viewed the crowning dish as it awaited them on golden platters, others feasted elsewhere. In the tower of the great temple the priests held revels, and in pavilions without the walls the princes of neighbouring lands made merry. And it was the high-priest Gnai-Kah who first saw the shadows that descended from the gibbous moon into the lake, and the damnable green mists that arose from the lake to meet the moon and to shroud in a sinister haze the towers and the domes of fated Sarnath. Thereafter those in the towers and without the walls beheld strange lights on the water, and saw that the grey rock Akurion, which was wont to rear high above it near the shore, was almost submerged. And fear grew vaguely yet swiftly, so that the princes of llarnek and of far Rokol took down and folded their tents and pavilions and departed for the river Ai, though they scarce knew the reason for their departing.\""
      ]
     },
     "execution_count": 24,
     "metadata": {},
     "output_type": "execute_result"
    }
   ],
   "source": [
    "\" \".join([x.page_content for x in res])"
   ]
  },
  {
   "cell_type": "code",
   "execution_count": 25,
   "id": "05425509-c95e-4c95-bb21-f1c9fb7b858f",
   "metadata": {
    "tags": []
   },
   "outputs": [
    {
     "name": "stdout",
     "output_type": "stream",
     "text": [
      "Help on method similarity_search in module langchain_community.vectorstores.sqlitevss:\n",
      "\n",
      "similarity_search(query: 'str', k: 'int' = 4, **kwargs: 'Any') -> 'List[Document]' method of langchain_community.vectorstores.sqlitevss.SQLiteVSS instance\n",
      "    Return docs most similar to query.\n",
      "\n"
     ]
    }
   ],
   "source": [
    "help(db.similarity_search)"
   ]
  },
  {
   "cell_type": "code",
   "execution_count": 36,
   "id": "ddddcc70-a868-4f17-a6d0-142ea35d8561",
   "metadata": {
    "tags": []
   },
   "outputs": [],
   "source": [
    "from sqlite_utils import Database\n",
    "from datetime import datetime\n",
    "\n",
    "db = Database(\"history.db\")"
   ]
  },
  {
   "cell_type": "code",
   "execution_count": 37,
   "id": "4c58beca-8d4e-4d3c-8429-0468583326bc",
   "metadata": {
    "tags": []
   },
   "outputs": [
    {
     "ename": "TypeError",
     "evalue": "function missing required argument 'year' (pos 1)",
     "output_type": "error",
     "traceback": [
      "\u001b[0;31m---------------------------------------------------------------------------\u001b[0m",
      "\u001b[0;31mTypeError\u001b[0m                                 Traceback (most recent call last)",
      "Cell \u001b[0;32mIn[37], line 6\u001b[0m\n\u001b[1;32m      4\u001b[0m time\u001b[38;5;241m.\u001b[39msleep(\u001b[38;5;241m3\u001b[39m)\n\u001b[1;32m      5\u001b[0m examples\u001b[38;5;241m.\u001b[39mappend(\u001b[38;5;124m\"\u001b[39m\u001b[38;5;124mThis is a test message\u001b[39m\u001b[38;5;124m\"\u001b[39m \u001b[38;5;241m+\u001b[39m \u001b[38;5;28mstr\u001b[39m(x))\n\u001b[0;32m----> 6\u001b[0m ts\u001b[38;5;241m.\u001b[39mappend(\u001b[43mdatetime\u001b[49m\u001b[43m(\u001b[49m\u001b[43m)\u001b[49m)\n",
      "\u001b[0;31mTypeError\u001b[0m: function missing required argument 'year' (pos 1)"
     ]
    }
   ],
   "source": [
    "examples = []\n",
    "ts = []\n",
    "for x in range(10): \n",
    "    time.sleep(3)\n",
    "    examples.append(\"This is a test message\" + str(x))\n",
    "    ts.append(datetime())"
   ]
  },
  {
   "cell_type": "code",
   "execution_count": 40,
   "id": "d903a0a3-f55e-4970-b35f-2388cc0e77d5",
   "metadata": {
    "tags": []
   },
   "outputs": [
    {
     "name": "stdout",
     "output_type": "stream",
     "text": [
      "Help on built-in function now:\n",
      "\n",
      "now(tz=None) method of builtins.type instance\n",
      "    Returns new datetime object representing current time local to tz.\n",
      "    \n",
      "      tz\n",
      "        Timezone object.\n",
      "    \n",
      "    If no tz is specified, uses local timezone.\n",
      "\n"
     ]
    }
   ],
   "source": [
    "help(datetime.now)"
   ]
  },
  {
   "cell_type": "code",
   "execution_count": 31,
   "id": "bf170c07-d221-4144-bc06-08eda47c65a0",
   "metadata": {
    "tags": []
   },
   "outputs": [
    {
     "data": {
      "text/plain": [
       "<Table history (text, time_ingested_dt)>"
      ]
     },
     "execution_count": 31,
     "metadata": {},
     "output_type": "execute_result"
    }
   ],
   "source": [
    "db[\"history\"].insert_all([{\n",
    "    \"text\": text,\n",
    "    \"time_ingested_dt\": t,\n",
    "} for text,t in zip(examples,ts)])"
   ]
  },
  {
   "cell_type": "code",
   "execution_count": 44,
   "id": "d4a510ab-9e2f-490c-b080-c859d79270b2",
   "metadata": {
    "tags": []
   },
   "outputs": [
    {
     "data": {
      "text/plain": [
       "<Table history (text, time_ingested_dt)>"
      ]
     },
     "execution_count": 44,
     "metadata": {},
     "output_type": "execute_result"
    }
   ],
   "source": [
    "db['history'].insert({'text': 'does this work', 'time_ingested_dt': time.time()})"
   ]
  },
  {
   "cell_type": "code",
   "execution_count": 45,
   "id": "e51e767e-f69c-462e-b6dd-d3d17adee42c",
   "metadata": {
    "tags": []
   },
   "outputs": [],
   "source": [
    "result = db.query(\"\"\"\n",
    "    select text, time_ingested_dt\n",
    "    from history\n",
    "    order by time_ingested_dt desc\n",
    "\"\"\")"
   ]
  },
  {
   "cell_type": "code",
   "execution_count": 46,
   "id": "5eebb2a4-2595-4473-b2b0-db2b97c92353",
   "metadata": {
    "tags": []
   },
   "outputs": [
    {
     "data": {
      "text/plain": [
       "[{'text': 'does this work', 'time_ingested_dt': 1704054947.5767336},\n",
       " {'text': 'This is a test message9', 'time_ingested_dt': 1704054483.9196944},\n",
       " {'text': 'This is a test message8', 'time_ingested_dt': 1704054480.9166272},\n",
       " {'text': 'This is a test message7', 'time_ingested_dt': 1704054477.9159162},\n",
       " {'text': 'This is a test message6', 'time_ingested_dt': 1704054474.9128203},\n",
       " {'text': 'This is a test message5', 'time_ingested_dt': 1704054471.9117453},\n",
       " {'text': 'This is a test message4', 'time_ingested_dt': 1704054468.908634},\n",
       " {'text': 'This is a test message3', 'time_ingested_dt': 1704054465.9079719},\n",
       " {'text': 'This is a test message2', 'time_ingested_dt': 1704054462.9047947},\n",
       " {'text': 'This is a test message1', 'time_ingested_dt': 1704054459.9023907},\n",
       " {'text': 'This is a test message0', 'time_ingested_dt': 1704054456.900818}]"
      ]
     },
     "execution_count": 46,
     "metadata": {},
     "output_type": "execute_result"
    }
   ],
   "source": [
    "list(result)"
   ]
  },
  {
   "cell_type": "code",
   "execution_count": 48,
   "id": "5454a7a0-da0d-4613-af75-c67da52aea72",
   "metadata": {
    "tags": []
   },
   "outputs": [
    {
     "data": {
      "text/plain": [
       "float"
      ]
     },
     "execution_count": 48,
     "metadata": {},
     "output_type": "execute_result"
    }
   ],
   "source": [
    "type(time.time())"
   ]
  },
  {
   "cell_type": "code",
   "execution_count": null,
   "id": "9291ab8f-a7e7-4a52-b98d-9e44c0b8fd71",
   "metadata": {},
   "outputs": [],
   "source": []
  }
 ],
 "metadata": {
  "kernelspec": {
   "display_name": "Python 3 (ipykernel)",
   "language": "python",
   "name": "python3"
  },
  "language_info": {
   "codemirror_mode": {
    "name": "ipython",
    "version": 3
   },
   "file_extension": ".py",
   "mimetype": "text/x-python",
   "name": "python",
   "nbconvert_exporter": "python",
   "pygments_lexer": "ipython3",
   "version": "3.10.12"
  }
 },
 "nbformat": 4,
 "nbformat_minor": 5
}
